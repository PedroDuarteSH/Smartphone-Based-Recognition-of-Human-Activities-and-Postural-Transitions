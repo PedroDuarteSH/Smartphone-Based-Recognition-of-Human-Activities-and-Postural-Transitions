{
 "cells": [
  {
   "cell_type": "markdown",
   "metadata": {},
   "source": [
    "# Relatório e código do Trabalho Prático de Análise e Transformação de Dados"
   ]
  },
  {
   "cell_type": "markdown",
   "metadata": {},
   "source": [
    "## 1. Importar Sinais Necessários"
   ]
  },
  {
   "cell_type": "markdown",
   "metadata": {},
   "source": [
    "Para importar os dados necessários, começamos por criar uma função que lê os ficheiros presentes numa pasta com os DataSets a analisar, e verfica se o formato do nome dos mesmos está de acordo com o necessário"
   ]
  },
  {
   "cell_type": "markdown",
   "metadata": {},
   "source": [
    "Começaremos a nossa análise por ler os ficheiros, fazendo as verificações básicas á possibilidade de execução"
   ]
  },
  {
   "cell_type": "code",
   "execution_count": 1,
   "metadata": {
    "scrolled": true
   },
   "outputs": [
    {
     "name": "stdout",
     "output_type": "stream",
     "text": [
      "\n"
     ]
    }
   ],
   "source": [
    "%Taxa de amostragem dos dados\n",
    "fs = 50;\n",
    "if ~isfile(\"data.mat\")\n",
    "    data = lerDados();\n",
    "    data = lerLabel(data);\n",
    "    activity_label = lerActivityLabel();\n",
    "    if(~isa(data,'cell'))\n",
    "        return\n",
    "    end\n",
    "end"
   ]
  },
  {
   "cell_type": "code",
   "execution_count": null,
   "metadata": {
    "scrolled": true
   },
   "outputs": [],
   "source": [
    "%%file lerDados.m\n",
    "function data = lerDados()\n",
    "PATH = \"Data_PL2\";\n",
    "ficheiro_path = dir(PATH);\n",
    "numero_ficheiros = length(ficheiro_path)-2;\n",
    "data = cell(numero_ficheiros,1);\n",
    "string_patern = digitsPattern;\n",
    "\n",
    "for i = 1:numero_ficheiros\n",
    "    dados_exp = str2double(extract(ficheiro_path(i+2).name, string_patern));\n",
    "    if(length(dados_exp) ~= 2)\n",
    "        warning(\"Erro a ler conteudo da pasta, verifique a sua pasta e o parsing do ficheiro \" + ficheiro_path(i+2).name);\n",
    "        data = [];\n",
    "        break\n",
    "    end\n",
    "    data{i,1}.data = (load(PATH + '\\' + ficheiro_path(i+2).name));\n",
    "    data{i,1}.user = dados_exp(2); %Guardar utilizador\n",
    "    data{i,1}.exp_num = dados_exp(1); %Guardar numero experiencia\n",
    "end"
   ]
  },
  {
   "cell_type": "code",
   "execution_count": null,
   "metadata": {},
   "outputs": [],
   "source": [
    "%%file lerLabel.m\n",
    "\n",
    "function data = lerLabel(data)\n",
    "PATH = \"Help\\labels.txt\";\n",
    "temp = load(PATH);\n",
    "%temp = temp(ismember(temp(:, 1),experiencias), :);\n",
    "for i = 1:length(data)\n",
    "    exp_labels = temp(:,1) == data{i}.exp_num;\n",
    "    data{i}.activity.number = num2cell(temp(exp_labels, 3));\n",
    "    data{i}.activity.start = num2cell(temp(exp_labels, 4));\n",
    "    data{i}.activity.end = num2cell(temp(exp_labels, 5));\n",
    "end"
   ]
  },
  {
   "cell_type": "code",
   "execution_count": null,
   "metadata": {},
   "outputs": [],
   "source": [
    "%%file lerActivityLabel.m\n",
    "\n",
    "function label = lerActivityLabel()\n",
    "PATH = \"Help\\activity_labels.txt\";\n",
    "\n",
    "temp = table2cell(readtable(PATH));\n",
    "label = temp(:, 2);"
   ]
  },
  {
   "cell_type": "markdown",
   "metadata": {},
   "source": [
    "## 2. Representar graficamente os sinais importados, identificando a atividade a que cada fragmento corresponde."
   ]
  },
  {
   "cell_type": "code",
   "execution_count": null,
   "metadata": {
    "scrolled": false
   },
   "outputs": [],
   "source": [
    "%plot -b inline -w 1500 -h 1500\n",
    "experiencias = zeros(length(data),1);\n",
    "for i = 1:length(data)\n",
    "    experiencias(i) = data{i}.exp_num;\n",
    "end\n",
    "[indx,~] = listdlg('ListString', num2str(experiencias), 'SelectionMode','single', 'Name', ...\n",
    "            'Escolha uma experiencia para visualizar');\n",
    "%user_plot(data, activity_label, indx, fs);"
   ]
  },
  {
   "cell_type": "code",
   "execution_count": null,
   "metadata": {},
   "outputs": [],
   "source": [
    "%%file user_plot.m\n",
    "function user_plot(data, activity_label, index, fs)\n",
    "\n",
    "colors = ['#4DBEEE';'#D95319';'#EDB120';'#7E2F8E';'#77AC30';'#A2142F';'#0072BD';'#00FF00';'#FF0000'; ...\n",
    "          '#0000FF';'#00FFFF';'#FF00FF'];\n",
    "\n",
    "figure(1);\n",
    "indexes = 1:length(data{index}.data);\n",
    "indexes = indexes./fs./60;\n",
    "\n",
    "%Adicionar dados no plot(LETRA X)\n",
    "letter = 88;\n",
    "for ax = 1:3\n",
    "    subplot(3,1,ax);\n",
    "    hold on\n",
    "    start = 1;\n",
    "    for i = 1: length(data{index}.activity.number)\n",
    "        label_begin = cell2mat(data{index}.activity.start(i));\n",
    "        label_end = cell2mat(data{index}.activity.end(i));\n",
    "        if label_begin > start\n",
    "            data_range = start:label_begin;\n",
    "            data_output = data{index}.data(data_range,ax);\n",
    "            plot(indexes(data_range),data_output, 'k');\n",
    "        end\n",
    "        %obter atividade\n",
    "        actv_num = cell2mat(data{index}.activity.number(i));\n",
    "        data_range = label_begin:label_end;\n",
    "        data_output = data{index}.data(data_range,ax);\n",
    "        plot(indexes(data_range),data_output, 'color', colors(actv_num,:));\n",
    "        start = label_end;\n",
    "        text_pos_y = max(data_output) + 0.2;\n",
    "        txt = activity_label(actv_num);\n",
    "        t = text(double(indexes(round((label_begin+label_end)/2))), text_pos_y,txt , 'Interpreter' , 'none');\n",
    "        t.FontSize = 12;\n",
    "        t.Rotation = 90;\n",
    "    end\n",
    "    data_range = (start:length(data{index}.data(:,ax)));\n",
    "    data_output = data{index}.data(data_range,ax);\n",
    "    plot(indexes(data_range), data_output, 'k');\n",
    "    xlabel(\"Time (min)\", 'FontSize' , 15);\n",
    "    ylabel(strcat(\"AAC \", char(letter)), 'FontSize' , 15);\n",
    "    letter = letter + 1;\n",
    "    hold off\n",
    "end"
   ]
  },
  {
   "cell_type": "markdown",
   "metadata": {},
   "source": [
    "## 3. Calcular DFT associado a cada atividade, para todos os utilizadores "
   ]
  },
  {
   "cell_type": "markdown",
   "metadata": {},
   "source": [
    "## Análise teórica das janelas\n",
    "\n",
    "### Uma pequena Introdução\n",
    "Numa primeira fase, precisamos de entender os diversos fenómenos e consequencias dos mesmos na nossa análise, para isso precisamos de perceber o funcionamento da transformada de Fourier, no nosso caso, em tempo discreto (Devido ás limitações computacionais).\n",
    "\n",
    "Ao aplicar esta transformada pretendemos obter uma **representação em frequencia do sinal original**, para isso, vamos decompomo-lo numa soma cossenos, obtendo assim as frequencias do sinal original, bem como a sua amplitude **num determinado periodo**.\n",
    "\n",
    "![](Imagens\\DFT.png)\n",
    "\n",
    "Sendo \n",
    "- m&Omega;<sub>0</sub> - as frequências angulares\n",
    "- &Theta;m - as fases das sinusóides\n",
    "\n",
    "\n",
    "### O efeito das janelas\n",
    "\n",
    "Iniciando a análise de janelas numa perspetiva teórica, sabemos que o sucesso ou não da análise de sinais com uso da transformada DTF pode depender, em grande escala, do tipo de janela a utilizar.\n",
    "\n",
    "\n",
    "- Spectral leakage: Para entende-lo, temos de relembrar que a transformada DFT considera em repetição periodica do mesmo sinal, isto causa\n",
    "- Noise Bandwidth\n",
    "\n",
    "Vamos apenas realizar uma breve enunciação de pontos fracos e fortes de cada  \n",
    "\n",
    "---\n",
    "Neste ponto começamos a análise de dados com aplicação da DFT a todos os fragmento referente a uma atividade, para todos utilizadores.\n",
    "Para melhorar a nossa análise posterior, guardámos também as larguras de erro dos sinais, para cada largura aplicada, isto porque pretendemos escolher entre quatro janelas, a que achamos ser a mais vantajosa para o projeto em questão, tendo em conta as análises de frequencia, para cada atividade\n",
    "\n",
    "\n",
    "\n",
    "\n"
   ]
  },
  {
   "cell_type": "code",
   "execution_count": 2,
   "metadata": {},
   "outputs": [
    {
     "name": "stdout",
     "output_type": "stream",
     "text": [
      "\n"
     ]
    }
   ],
   "source": [
    "if ~isfile(\"data.mat\")\n",
    "    data = DFT(data, fs);\n",
    "\n",
    "else\n",
    "    disp(\"Loading already existing file\");\n",
    "end\n"
   ]
  },
  {
   "cell_type": "code",
   "execution_count": 27,
   "metadata": {
    "scrolled": false
   },
   "outputs": [
    {
     "name": "stdout",
     "output_type": "stream",
     "text": [
      "Mean Hamming Window Noise Bandwith to activity WALKING_UPSTAIRS\n",
      "    0.0727\n",
      "\n",
      "Mean Hann Window Noise Bandwith to activity WALKING_UPSTAIRS\n",
      "    0.1236\n",
      "\n",
      "Mean Flat Top Window Noise Bandwith to activity WALKING_UPSTAIRS\n",
      "    0.3106\n",
      "\n",
      "\n"
     ]
    }
   ],
   "source": [
    "%Mostrar graficos erro das janelas por atividade\n",
    "mean_size = get_mean_sizes(data);\n",
    "\n",
    "[act_in,~] = listdlg('ListString', activity_label, 'Name','Escolha uma experiencia para visualizar');\n",
    "\n",
    "mean_activity_size = mean_size(act_in);\n",
    "\n",
    "temp_window = hamming(mean_activity_size);\n",
    "hamm = wvtool(temp_window);\n",
    "hamm.Name = 'Janela de Hamming';\n",
    "disp(strcat(\"Mean Hamming Window Noise Bandwith to activity \", activity_label(act_in)));\n",
    "disp(enbw(hamming_window, fs));\n",
    "\n",
    "temp_window = hann(mean_activity_size);\n",
    "h = wvtool(temp_window);\n",
    "h.Name = 'Janela de Hann';\n",
    "disp(strcat(\"Mean Hann Window Noise Bandwith to activity \", activity_label(act_in)));\n",
    "disp(enbw(temp_window, fs));\n",
    "\n",
    "\n",
    "temp_window = flattopwin( mean_size(act_in));\n",
    "flattop = wvtool(temp_window);\n",
    "flattop.Name = 'Janela Flatop';\n",
    "disp(strcat(\"Mean Flat Top Window Noise Bandwith to activity \", activity_label(act_in)));\n",
    "disp(enbw(temp_window, fs));\n",
    "\n",
    "\n",
    "%Make a window viewer with all windows for visual comparision\n",
    "all_win = wvtool(hamming(mean_activity_size), hann(mean_activity_size), flattopwin( mean_size(act_in)));\n",
    "all_win.Name = 'Juncão de todas as janelas';"
   ]
  },
  {
   "cell_type": "markdown",
   "metadata": {},
   "source": [
    "## Análise das janelas, por atividade\n",
    "\n",
    "|Tipo de atividade| Atividade      |                               | Hamming     | Hann     | Flat Top |\n",
    "|:--- | :---  | :---  | :---: | :---:   |:---: |\n",
    "|**Dinamicas:**|\n",
    "|                 | Walking        |                               |             |          |          |\n",
    "|                 |                | Leakege Factor                |             |          |          |\n",
    "|                 |                | Relative Side Lobe Atenuation |             |          |          |\n",
    "|                 |                | Mainlobe width (-3db)         |             |          |          |\n",
    "|                 |                | Mean Noise Bandwidth          |             |          |          |\n",
    "|                 |WALKING_UPSTRS|                              |             |          |          |\n",
    "|                 |                | Leakege Factor                |             |          |          |\n",
    "|                 |                | Relative Side Lobe Atenuation |             |          |          |\n",
    "|                 |                | Mainlobe width (-3db)         |             |          |          |\n",
    "|                 |                | Mean Noise Bandwidth          |             |          |          |\n",
    "|                 | WALKING_DWSTRS|                            |             |          |          |\n",
    "|                 |                | Leakege Factor                |             |          |          |\n",
    "|                 |                | Relative Side Lobe Atenuation |             |          |          |\n",
    "|                 |                | Mainlobe width (-3db)         |             |          |          |\n",
    "|                 |                | Mean Noise Bandwidth          | 0.0727      |   0.1236 |   0.3106 |\n",
    "|**Estáticas:**   |\n",
    "|                 | SITTING        |                               |             |          |          |\n",
    "|                 |                | Leakege Factor                |             |          |          |\n",
    "|                 |                | Relative Side Lobe Atenuation |             |          |          |\n",
    "|                 |                | Mainlobe width (-3db)         |             |          |          |\n",
    "|                 |                | Mean Noise Bandwidth          |             |          |          |\n",
    "|                 | STANDING       |                               |             |          |          |\n",
    "|                 |                | Leakege Factor                |             |          |          |\n",
    "|                 |                | Relative Side Lobe Atenuation |             |          |          |\n",
    "|                 |                | Mainlobe width (-3db)         |             |          |          |\n",
    "|                 |                | Mean Noise Bandwidth          |             |          |          |\n",
    "|                 | LAYING         |                               |             |          |          |\n",
    "|                 |                | Leakege Factor                |             |          |          |\n",
    "|                 |                | Relative Side Lobe Atenuation |             |          |          |\n",
    "|                 |                | Mainlobe width (-3db)         |             |          |          |\n",
    "|                 |                | Mean Noise Bandwidth          |             |          |          |\n",
    "|**De transição:**|\n",
    "|                 | STAND_TO_SIT   |                               |             |          |          |\n",
    "|                 |                | Leakege Factor                |             |          |          |\n",
    "|                 |                | Relative Side Lobe Atenuation |             |          |          |\n",
    "|                 |                | Mainlobe width (-3db)         |             |          |          |\n",
    "|                 |                | Mean Noise Bandwidth          |             |          |          |\n",
    "|                 | SIT_TO_STAND   |                               |             |          |          |\n",
    "|                 |                | Leakege Factor                |             |          |          |\n",
    "|                 |                | Relative Side Lobe Atenuation |             |          |          |\n",
    "|                 |                | Mainlobe width (-3db)         |             |          |          |\n",
    "|                 |                | Mean Noise Bandwidth          |             |          |          |\n",
    "|                 | SIT_TO_LIE     |                               |             |          |          |\n",
    "|                 |                | Leakege Factor                |             |          |          |\n",
    "|                 |                | Relative Side Lobe Atenuation |             |          |          |\n",
    "|                 |                | Mainlobe width (-3db)         |             |          |          |\n",
    "|                 |                | Mean Noise Bandwidth          |             |          |          |\n",
    "|                 | LIE_TO_SIT     |                               |             |          |          |\n",
    "|                 |                | Leakege Factor                |             |          |          |\n",
    "|                 |                | Relative Side Lobe Atenuation |             |          |          |\n",
    "|                 |                | Mainlobe width (-3db)         |             |          |          |\n",
    "|                 |                | Mean Noise Bandwidth          |             |          |          |\n",
    "|                 | STAND_TO_LIE   |                               |             |          |          |\n",
    "|                 |                | Leakege Factor                |             |          |          |\n",
    "|                 |                | Relative Side Lobe Atenuation |             |          |          |\n",
    "|                 |                | Mainlobe width (-3db)         |             |          |          |\n",
    "|                 |                | Mean Noise Bandwidth          |             |          |          |\n",
    "|                 | LIE_TO_STAND   |                               |             |          |          |\n",
    "|                 |                | Leakege Factor                |             |          |          |\n",
    "|                 |                | Relative Side Lobe Atenuation |             |          |          |\n",
    "|                 |                | Mainlobe width (-3db)         |             |          |          |\n",
    "|                 |                | Mean Noise Bandwidth          |             |          |          |\n",
    "|                 | STANDING       |                               |             |          |          |\n",
    "|                 |                | Leakege Factor                |             |          |          |\n",
    "|                 |                | Relative Side Lobe Atenuation |             |          |          |\n",
    "|                 |                | Mainlobe width (-3db)         |             |          |          |\n",
    "|                 |                | Mean Noise Bandwidth          |             |          |          |"
   ]
  },
  {
   "cell_type": "code",
   "execution_count": 25,
   "metadata": {
    "scrolled": true
   },
   "outputs": [
    {
     "name": "stdout",
     "output_type": "stream",
     "text": [
      "Created file 'C:\\Users\\User\\Desktop\\2ºAno\\ATD\\PROJETO\\get_mean_sizes.m'.\n"
     ]
    }
   ],
   "source": [
    "%%file get_mean_sizes.m\n",
    "function mean_size = get_mean_sizes(data)\n",
    "    exp_indexes = 1:length(data);\n",
    "    mean_size = zeros(12, 1);\n",
    "    for i = 1:12\n",
    "        n_am = 0;\n",
    "        n_sum = 0;\n",
    "        for experience = exp_indexes\n",
    "            indexes = find(i == cell2mat(data{experience}.activity.number));\n",
    "            len = cell2mat(data{experience}.activity.end(indexes)) - cell2mat(data{experience}.activity.start(indexes));\n",
    "            n_sum = n_sum + sum(len);\n",
    "            n_am = n_am + length(len);\n",
    "        end\n",
    "        mean_size(i) = round(n_sum / n_am);\n",
    "    end\n",
    "end"
   ]
  },
  {
   "cell_type": "code",
   "execution_count": 26,
   "metadata": {},
   "outputs": [
    {
     "name": "stderr",
     "output_type": "stream",
     "text": [
      "\u001b[1;31mUnrecognized function or variable 'experiencias'.\n",
      "\n",
      "\u001b[0m"
     ]
    },
    {
     "ename": "Error",
     "evalue": -1,
     "output_type": "error",
     "traceback": "Unrecognized function or variable 'experiencias'.\n"
    }
   ],
   "source": [
    "%plot -b inline -w 1500 -h 700\n",
    "\n",
    "window_names = {'RETANGULAR', 'HAMMING', 'HANN', 'FLAT TOP'};\n",
    "\n",
    "[exp_in,~] = listdlg('ListString', num2str(experiencias), 'SelectionMode','single', 'Name','Escolha uma experiencia para visualizar');\n",
    "[act_in,~] = listdlg('ListString', activity_label, 'Name','Escolha uma experiencia para visualizar');\n",
    "[windows,~] = listdlg('ListString', window_names, 'Name','Escolha uma ou mais janelas para visualizar');\n",
    "\n",
    "\n",
    "data_act_index = [];\n",
    "for i = 1:length(act_in)\n",
    "    indexes = find(cell2mat(data{exp_in}.activity.number) == act_in(i))';\n",
    "    data_act_index = [data_act_index indexes];\n",
    "end\n",
    "\n",
    "DFT_PLOTS(data, exp_in, data_act_index, fs, activity_label, windows)\n"
   ]
  },
  {
   "cell_type": "code",
   "execution_count": 16,
   "metadata": {},
   "outputs": [
    {
     "name": "stdout",
     "output_type": "stream",
     "text": [
      "Created file 'C:\\Users\\User\\Desktop\\2ºAno\\ATD\\PROJETO\\DFT.m'.\n"
     ]
    }
   ],
   "source": [
    "%%file DFT.m\n",
    "\n",
    "function data = DFT(data)\n",
    "for experience = 1:length(data)\n",
    "    n_act_users = length(data{experience}.activity.number);\n",
    "    for user_activity = 1:n_act_users\n",
    "        \n",
    "        start_index = cell2mat(data{experience}.activity.start(user_activity,1));\n",
    "        end_index = cell2mat(data{experience}.activity.end(user_activity,1));\n",
    "        data_range = start_index:end_index;\n",
    "        data_s = length(data_range);\n",
    "        for ax = 1:3\n",
    "            %DFT Janela Retangular\n",
    "            data_to_DFT = data{experience}.data(data_range, ax);\n",
    "            data{experience}.activity.DFT_RECT{user_activity, ax} =  fftshift(fft(data_to_DFT));\n",
    "\n",
    "            %DFT Janela Hamming\n",
    "            window = hamming(data_s);\n",
    "            data_to_DFT = data{experience}.data(data_range, ax) .* window;\n",
    "            data{experience}.activity.DFT_HAMMING{user_activity, ax} =  fftshift(fft(data_to_DFT));\n",
    "         \n",
    "            %DFT Janela Hann\n",
    "            window = hann(data_s);\n",
    "            data_to_DFT = data{experience}.data(data_range, ax) .* window;\n",
    "            data{experience}.activity.DFT_HANN{user_activity, ax} =  fftshift(fft(data_to_DFT));\n",
    "\n",
    "            %DFT Janela Flat top\n",
    "            window = flattopwin(data_s);\n",
    "            data_to_DFT = data{experience}.data(data_range, ax) .* window;\n",
    "            data{experience}.activity.DFT_FLATOP{user_activity, ax} =  fftshift(fft(data_to_DFT));\n",
    "        end\n",
    "    end\n",
    "end"
   ]
  },
  {
   "cell_type": "code",
   "execution_count": null,
   "metadata": {},
   "outputs": [],
   "source": [
    "%%file DFT_PLOTS.m\n",
    "\n",
    "function DFT_PLOTS(data, experience, data_act_index, Fs, activity_label, windows)\n",
    "colors = ['#00FF00';'#FF0000';'#0000FF';'#00FFFF';'#FF00FF'];\n",
    "\n",
    "\n",
    "for user_activity_index = 1:length(data_act_index)\n",
    "   figure\n",
    "   index = 0;\n",
    "   user_activity = data_act_index(user_activity_index);\n",
    "   start_index = cell2mat(data{experience}.activity.start(user_activity,1));\n",
    "   end_index = cell2mat(data{experience}.activity.end(user_activity,1));\n",
    "   data_range = start_index:end_index;\n",
    "   N = length(data_range);\n",
    "   if mod(N,2) == 0\n",
    "            f = -Fs/2:Fs/N:Fs/2-Fs/N;\n",
    "   else\n",
    "            f = -Fs/2 + Fs/N/2:Fs/N:Fs/2-Fs/N/2;\n",
    "   end\n",
    "\n",
    "\n",
    "   actv_num = cell2mat(data{experience}.activity.number(user_activity));\n",
    "   ylabel(activity_label(actv_num));\n",
    "   \n",
    "   for ax = 1:3\n",
    "        color = 1;\n",
    "        subplot(1, 3, index + ax);\n",
    "        hold on\n",
    "        if ismember(1, windows)\n",
    "            DFT_RECT = data{experience}.activity.DFT_RECT{user_activity, ax};\n",
    "            plot(f, abs(DFT_RECT), '-', 'color', colors(color, :));\n",
    "        end\n",
    "        color = color + 1;\n",
    "        if ismember(2, windows)\n",
    "            DFT_HANN = data{experience}.activity.DFT_HANN{user_activity, ax};\n",
    "            plot(f, abs(DFT_HANN), '-', 'color', colors(color, :));\n",
    "        end\n",
    "        color = color + 1;\n",
    "        if ismember(3, windows)\n",
    "            DFT_HAMMING = data{experience}.activity.DFT_HAMMING{user_activity, ax};\n",
    "            plot(f, abs(DFT_HAMMING), '-', 'color', colors(color, :));\n",
    "        end\n",
    "        color = color + 1;\n",
    "        if ismember(4, windows)\n",
    "            DFT_FLATOP = data{experience}.activity.DFT_FLATOP{user_activity, ax};\n",
    "            plot(f, abs(DFT_FLATOP), '-', 'color', colors(color, :));\n",
    "        end\n",
    "        if ax == 1\n",
    "            xlabel(\"X\");\n",
    "            ylabel(activity_label(actv_num), 'Interpreter' , 'none');\n",
    "        elseif ax == 2\n",
    "            xlabel(\"Y\");\n",
    "        else\n",
    "            xlabel(\"Z\");\n",
    "        end\n",
    "        \n",
    "   end\n",
    "   \n",
    "   index = index + 3;\n",
    "end"
   ]
  },
  {
   "cell_type": "code",
   "execution_count": null,
   "metadata": {},
   "outputs": [],
   "source": []
  }
 ],
 "metadata": {
  "kernelspec": {
   "display_name": "Matlab",
   "language": "matlab",
   "name": "matlab"
  },
  "language_info": {
   "codemirror_mode": "octave",
   "file_extension": ".m",
   "help_links": [
    {
     "text": "MetaKernel Magics",
     "url": "https://metakernel.readthedocs.io/en/latest/source/README.html"
    }
   ],
   "mimetype": "text/x-octave",
   "name": "matlab",
   "version": "0.16.11"
  },
  "widgets": {
   "application/vnd.jupyter.widget-state+json": {
    "state": {},
    "version_major": 2,
    "version_minor": 0
   }
  }
 },
 "nbformat": 4,
 "nbformat_minor": 4
}
